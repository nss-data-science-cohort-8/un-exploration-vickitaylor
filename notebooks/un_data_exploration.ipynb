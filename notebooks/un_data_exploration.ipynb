{
 "cells": [
  {
   "cell_type": "markdown",
   "id": "c6bf9ffc",
   "metadata": {},
   "source": [
    "## An Exploration of UN data\n",
    "In this project, you'll be doing some exploratory analysis on two country-level metrics, gross domestic product (GDP) per capita and overall life expectancy. After completing the guided practice section, you will have a chance to find some additional data and do some more exploring of your own."
   ]
  },
  {
   "cell_type": "markdown",
   "id": "4ff64688",
   "metadata": {},
   "source": [
    "### Guided Practice:\n",
    " 1.\tDownload the Gross Domestic Product (GDP) per capita dataset from [http://data.un.org/Data.aspx?d=WDI&f=Indicator_Code%3aNY.GDP.PCAP.PP.KD](http://data.un.org/Data.aspx?d=WDI&f=Indicator_Code%3aNY.GDP.PCAP.PP.KD). Rename it to gdp_per_capita.csv and place it in the `data` folder of your project repository.\n",
    "\n",
    "2. Create a Jupyter Notebook in the `notebooks` folder and name it `UN_Data_Exploration`.\n",
    "    *  You are likely to get errors along the way. When you do, read the errors to try to understand what is happening and how to correct it.\n",
    "    * Use markdown cells to record your answers to any questions asked in this exercise. On the menu bar, you can toggle the cell type from 'Code' to 'Markdown'. [Here](https://www.markdownguide.org/cheat-sheet/) is a link to a cheat sheet showing the basics of styling text using Markdown.\n",
    "\n",
    "3.\tIn the first cell of your notebook, import the required packages with their customary aliases as follows:\n",
    "\n",
    "    `import pandas as pd`   \n",
    "    `import numpy as np`  \n",
    "    `import matplotlib.pyplot as plt`  \n",
    "    `import seaborn as sns`\n",
    "    \n",
    "    Keep all imports in this cell at the top of your notebook."
   ]
  },
  {
   "cell_type": "markdown",
   "id": "5a60f402",
   "metadata": {},
   "source": [
    "Imported UN data sets on 10/03/2024 from [http://data.un.org/Data.aspx?d=WDI&f=Indicator_Code%3aNY.GDP.PCAP.PP.KD](http://data.un.org/Data.aspx?d=WDI&f=Indicator_Code%3aNY.GDP.PCAP.PP.KD)"
   ]
  },
  {
   "cell_type": "code",
   "execution_count": 7,
   "id": "b5ba9535-0829-4314-a944-4854b24bca81",
   "metadata": {},
   "outputs": [],
   "source": [
    "import pandas as pd\n",
    "import numpy as np \n",
    "import matplotlib.pyplot as plt \n",
    "import seaborn as sns"
   ]
  },
  {
   "cell_type": "markdown",
   "id": "ef3eeac0",
   "metadata": {},
   "source": [
    "4.\tUsing the pandas `read_csv()` function, read the GDP dataset into your notebook as a DataFrame called `gdp_df`. After reading it in, inspect the first 10 rows and then inspect the last 10 rows. \n"
   ]
  },
  {
   "cell_type": "markdown",
   "id": "2aac54ee",
   "metadata": {},
   "source": [
    "5. Drop the 'Value Footnotes' column, and rename the remaining columns to 'Country', 'Year', and 'GDP_Per_Capita'.\n"
   ]
  },
  {
   "cell_type": "markdown",
   "id": "caf54d62",
   "metadata": {},
   "source": [
    "- Removed column Value Footnotes due to all values being NaN. \n",
    "- Renamed column names from Country or Area to Country and Value to GDP_Per_Capita"
   ]
  },
  {
   "cell_type": "code",
   "execution_count": 8,
   "id": "64ef3539-9c5f-4d1d-a7ef-ad952844cee3",
   "metadata": {},
   "outputs": [
    {
     "data": {
      "text/html": [
       "<div>\n",
       "<style scoped>\n",
       "    .dataframe tbody tr th:only-of-type {\n",
       "        vertical-align: middle;\n",
       "    }\n",
       "\n",
       "    .dataframe tbody tr th {\n",
       "        vertical-align: top;\n",
       "    }\n",
       "\n",
       "    .dataframe thead th {\n",
       "        text-align: right;\n",
       "    }\n",
       "</style>\n",
       "<table border=\"1\" class=\"dataframe\">\n",
       "  <thead>\n",
       "    <tr style=\"text-align: right;\">\n",
       "      <th></th>\n",
       "      <th>Country</th>\n",
       "      <th>Year</th>\n",
       "      <th>GDP_Per_Capita</th>\n",
       "    </tr>\n",
       "  </thead>\n",
       "  <tbody>\n",
       "    <tr>\n",
       "      <th>0</th>\n",
       "      <td>Afghanistan</td>\n",
       "      <td>2021</td>\n",
       "      <td>1517.016266</td>\n",
       "    </tr>\n",
       "    <tr>\n",
       "      <th>1</th>\n",
       "      <td>Afghanistan</td>\n",
       "      <td>2020</td>\n",
       "      <td>1968.341002</td>\n",
       "    </tr>\n",
       "    <tr>\n",
       "      <th>2</th>\n",
       "      <td>Afghanistan</td>\n",
       "      <td>2019</td>\n",
       "      <td>2079.921861</td>\n",
       "    </tr>\n",
       "    <tr>\n",
       "      <th>3</th>\n",
       "      <td>Afghanistan</td>\n",
       "      <td>2018</td>\n",
       "      <td>2060.698973</td>\n",
       "    </tr>\n",
       "    <tr>\n",
       "      <th>4</th>\n",
       "      <td>Afghanistan</td>\n",
       "      <td>2017</td>\n",
       "      <td>2096.093111</td>\n",
       "    </tr>\n",
       "    <tr>\n",
       "      <th>5</th>\n",
       "      <td>Afghanistan</td>\n",
       "      <td>2016</td>\n",
       "      <td>2101.422187</td>\n",
       "    </tr>\n",
       "    <tr>\n",
       "      <th>6</th>\n",
       "      <td>Afghanistan</td>\n",
       "      <td>2015</td>\n",
       "      <td>2108.714173</td>\n",
       "    </tr>\n",
       "    <tr>\n",
       "      <th>7</th>\n",
       "      <td>Afghanistan</td>\n",
       "      <td>2014</td>\n",
       "      <td>2144.449634</td>\n",
       "    </tr>\n",
       "    <tr>\n",
       "      <th>8</th>\n",
       "      <td>Afghanistan</td>\n",
       "      <td>2013</td>\n",
       "      <td>2165.340915</td>\n",
       "    </tr>\n",
       "    <tr>\n",
       "      <th>9</th>\n",
       "      <td>Afghanistan</td>\n",
       "      <td>2012</td>\n",
       "      <td>2122.830759</td>\n",
       "    </tr>\n",
       "  </tbody>\n",
       "</table>\n",
       "</div>"
      ],
      "text/plain": [
       "       Country  Year  GDP_Per_Capita\n",
       "0  Afghanistan  2021     1517.016266\n",
       "1  Afghanistan  2020     1968.341002\n",
       "2  Afghanistan  2019     2079.921861\n",
       "3  Afghanistan  2018     2060.698973\n",
       "4  Afghanistan  2017     2096.093111\n",
       "5  Afghanistan  2016     2101.422187\n",
       "6  Afghanistan  2015     2108.714173\n",
       "7  Afghanistan  2014     2144.449634\n",
       "8  Afghanistan  2013     2165.340915\n",
       "9  Afghanistan  2012     2122.830759"
      ]
     },
     "execution_count": 8,
     "metadata": {},
     "output_type": "execute_result"
    }
   ],
   "source": [
    "gdp_df = (\n",
    "    pd.read_csv('../data/gdp_per_capita.csv')\n",
    "    .drop(columns = ['Value Footnotes'])\n",
    "    .rename(columns = {'Country or Area': 'Country', 'Value': 'GDP_Per_Capita'})\n",
    ")\n",
    "continents = pd.read_csv('../data/continents.csv')\n",
    "gdp_df.head(10)"
   ]
  },
  {
   "cell_type": "code",
   "execution_count": 9,
   "id": "7d4bb281-143e-4b86-aa2f-114a8f3bf96a",
   "metadata": {},
   "outputs": [
    {
     "data": {
      "text/html": [
       "<div>\n",
       "<style scoped>\n",
       "    .dataframe tbody tr th:only-of-type {\n",
       "        vertical-align: middle;\n",
       "    }\n",
       "\n",
       "    .dataframe tbody tr th {\n",
       "        vertical-align: top;\n",
       "    }\n",
       "\n",
       "    .dataframe thead th {\n",
       "        text-align: right;\n",
       "    }\n",
       "</style>\n",
       "<table border=\"1\" class=\"dataframe\">\n",
       "  <thead>\n",
       "    <tr style=\"text-align: right;\">\n",
       "      <th></th>\n",
       "      <th>Country</th>\n",
       "      <th>Year</th>\n",
       "      <th>GDP_Per_Capita</th>\n",
       "    </tr>\n",
       "  </thead>\n",
       "  <tbody>\n",
       "    <tr>\n",
       "      <th>7652</th>\n",
       "      <td>Zimbabwe</td>\n",
       "      <td>1999</td>\n",
       "      <td>2866.032886</td>\n",
       "    </tr>\n",
       "    <tr>\n",
       "      <th>7653</th>\n",
       "      <td>Zimbabwe</td>\n",
       "      <td>1998</td>\n",
       "      <td>2931.725144</td>\n",
       "    </tr>\n",
       "    <tr>\n",
       "      <th>7654</th>\n",
       "      <td>Zimbabwe</td>\n",
       "      <td>1997</td>\n",
       "      <td>2896.147308</td>\n",
       "    </tr>\n",
       "    <tr>\n",
       "      <th>7655</th>\n",
       "      <td>Zimbabwe</td>\n",
       "      <td>1996</td>\n",
       "      <td>2867.026043</td>\n",
       "    </tr>\n",
       "    <tr>\n",
       "      <th>7656</th>\n",
       "      <td>Zimbabwe</td>\n",
       "      <td>1995</td>\n",
       "      <td>2641.378271</td>\n",
       "    </tr>\n",
       "    <tr>\n",
       "      <th>7657</th>\n",
       "      <td>Zimbabwe</td>\n",
       "      <td>1994</td>\n",
       "      <td>2670.106615</td>\n",
       "    </tr>\n",
       "    <tr>\n",
       "      <th>7658</th>\n",
       "      <td>Zimbabwe</td>\n",
       "      <td>1993</td>\n",
       "      <td>2458.783255</td>\n",
       "    </tr>\n",
       "    <tr>\n",
       "      <th>7659</th>\n",
       "      <td>Zimbabwe</td>\n",
       "      <td>1992</td>\n",
       "      <td>2468.278257</td>\n",
       "    </tr>\n",
       "    <tr>\n",
       "      <th>7660</th>\n",
       "      <td>Zimbabwe</td>\n",
       "      <td>1991</td>\n",
       "      <td>2781.787843</td>\n",
       "    </tr>\n",
       "    <tr>\n",
       "      <th>7661</th>\n",
       "      <td>Zimbabwe</td>\n",
       "      <td>1990</td>\n",
       "      <td>2704.757299</td>\n",
       "    </tr>\n",
       "  </tbody>\n",
       "</table>\n",
       "</div>"
      ],
      "text/plain": [
       "       Country  Year  GDP_Per_Capita\n",
       "7652  Zimbabwe  1999     2866.032886\n",
       "7653  Zimbabwe  1998     2931.725144\n",
       "7654  Zimbabwe  1997     2896.147308\n",
       "7655  Zimbabwe  1996     2867.026043\n",
       "7656  Zimbabwe  1995     2641.378271\n",
       "7657  Zimbabwe  1994     2670.106615\n",
       "7658  Zimbabwe  1993     2458.783255\n",
       "7659  Zimbabwe  1992     2468.278257\n",
       "7660  Zimbabwe  1991     2781.787843\n",
       "7661  Zimbabwe  1990     2704.757299"
      ]
     },
     "execution_count": 9,
     "metadata": {},
     "output_type": "execute_result"
    }
   ],
   "source": [
    "gdp_df.tail(10)"
   ]
  },
  {
   "cell_type": "markdown",
   "id": "baee2f3a",
   "metadata": {},
   "source": [
    "🐕🐕🐕🐕🐕🐕🐕🐕🐕🐕🐕🐕🐕🐕🐕🐕🐕🐕🐕🐕🐕🐕🐕🐕🐕🐕🐕🐕🐕🐕🐕"
   ]
  },
  {
   "cell_type": "markdown",
   "id": "275f8470",
   "metadata": {},
   "source": [
    "6. How many rows and columns does gdp_df have? What are the data types of its columns? If any of the columns are not the expected types, figure out why and fix it."
   ]
  },
  {
   "cell_type": "markdown",
   "id": "00649b5f",
   "metadata": {},
   "source": [
    "- rows: 7662\n",
    "- columns: 3 (not including the index(not sure if that is counted))\n",
    "- data types: country - object, year - int64, gdp_per_capita - float64\n",
    "- changed year to a object (did not have issues with it in an int in anaconda, but when using vs code had major issues with it being a int and not a object).\n",
    "- so really none of the data types needed to be chagned, but I did have issues when changing to vs code with the year\n"
   ]
  },
  {
   "cell_type": "code",
   "execution_count": null,
   "id": "3259db03-2f25-408d-b807-9098d773ded5",
   "metadata": {},
   "outputs": [],
   "source": [
    "gdp_df.shape\n",
    "# trying different ways to get columns and rows\n",
    "# this gives rows, columns"
   ]
  },
  {
   "cell_type": "code",
   "execution_count": null,
   "id": "7e8fe78f-1d34-4270-a9d6-f0da3c344e89",
   "metadata": {},
   "outputs": [],
   "source": [
    "gdp_df.shape[0]\n",
    "# gives rows"
   ]
  },
  {
   "cell_type": "code",
   "execution_count": null,
   "id": "a02424ff-4834-4e1b-bce4-500e04a2f37b",
   "metadata": {},
   "outputs": [],
   "source": [
    "gdp_df.shape[1]\n",
    "# gives columns"
   ]
  },
  {
   "cell_type": "code",
   "execution_count": null,
   "id": "90a730f4-4354-4e02-9d14-5497397b9941",
   "metadata": {},
   "outputs": [],
   "source": [
    "gdp_df.info()\n",
    "# gives more inforamtion than just using df.types()"
   ]
  },
  {
   "cell_type": "code",
   "execution_count": null,
   "id": "54231d4f-1993-4e5a-bc1c-826d8a6263e2",
   "metadata": {},
   "outputs": [],
   "source": [
    "gdp_df.count()\n",
    "# number of values? in each columns?"
   ]
  },
  {
   "cell_type": "code",
   "execution_count": null,
   "id": "6f0d9bfa-bae6-4129-bb95-16ff23c88fbf",
   "metadata": {},
   "outputs": [],
   "source": [
    "len(gdp_df.index)\n",
    "# number of rows ?"
   ]
  },
  {
   "cell_type": "code",
   "execution_count": null,
   "id": "b8e6940a-a537-4a6d-97bc-81a05b748cbe",
   "metadata": {},
   "outputs": [],
   "source": [
    "len(gdp_df.axes[0])\n",
    "# gives the rows"
   ]
  },
  {
   "cell_type": "code",
   "execution_count": null,
   "id": "514eb698-ff77-415c-be6d-22fb1cf8a314",
   "metadata": {},
   "outputs": [],
   "source": [
    "# gives the columns \n",
    "len(gdp_df.axes[1])"
   ]
  },
  {
   "cell_type": "code",
   "execution_count": null,
   "id": "e68f74b0-e6e9-403a-97a3-8c8d5e64e31e",
   "metadata": {},
   "outputs": [],
   "source": [
    "len(gdp_df)\n",
    "# rows"
   ]
  },
  {
   "cell_type": "code",
   "execution_count": null,
   "id": "0c7b1293-252f-49d2-ad59-cb6bf451261a",
   "metadata": {},
   "outputs": [],
   "source": [
    "len(gdp_df.columns)\n",
    "# columns"
   ]
  },
  {
   "cell_type": "code",
   "execution_count": null,
   "id": "a6eb3c01-bbb2-4e04-a423-6657ed5d3bc3",
   "metadata": {},
   "outputs": [],
   "source": [
    "gdp_df.size\n",
    "# not what I am looking for"
   ]
  },
  {
   "cell_type": "code",
   "execution_count": 23,
   "id": "2db9b64e-c966-4031-ac74-75a26796abeb",
   "metadata": {},
   "outputs": [],
   "source": [
    "# changing year to a string\n",
    "gdp_df['Year'] = gdp_df['Year'].astype(str)"
   ]
  },
  {
   "cell_type": "markdown",
   "id": "5d5a688a",
   "metadata": {},
   "source": [
    "7. Which years are represented in this dataset? Take a look at the number of observations per year. What do you notice?"
   ]
  },
  {
   "cell_type": "markdown",
   "id": "d9cd8276-e421-4469-be21-d96e50af7ea8",
   "metadata": {},
   "source": [
    "   - the number of observations per year were increasing until 2013 where it stays the same till 2020, then decreases in 2021 to 241, and again in 2022 to 232. \n"
   ]
  },
  {
   "cell_type": "code",
   "execution_count": null,
   "id": "bebd2207-5a5a-460c-8de7-3cd0862b336b",
   "metadata": {},
   "outputs": [],
   "source": [
    "gdp_df['Year'].unique()"
   ]
  },
  {
   "cell_type": "code",
   "execution_count": null,
   "id": "f15b626a-44a8-44ad-9b8a-16a20daaeec6",
   "metadata": {},
   "outputs": [],
   "source": [
    "gdp_df['Year'].min()"
   ]
  },
  {
   "cell_type": "code",
   "execution_count": null,
   "id": "4b86c3cb-ad58-4599-91dd-48de4f0d46d8",
   "metadata": {},
   "outputs": [],
   "source": [
    "gdp_df['Year'].max()"
   ]
  },
  {
   "cell_type": "code",
   "execution_count": null,
   "id": "85acdf7b-2337-4613-af4f-d29d553393c4",
   "metadata": {},
   "outputs": [],
   "source": [
    "gdp_df['Year'].value_counts(ascending = True) \n",
    "# value counts sorts by the count. it is not in order by year. to sort by year, could you sort_index()"
   ]
  },
  {
   "cell_type": "code",
   "execution_count": null,
   "id": "3642685f",
   "metadata": {},
   "outputs": [],
   "source": [
    "gdp_df['Year'].value_counts().sort_index()\n",
    "# this isnt the same as above result due to the dataframe changing in cells further down"
   ]
  },
  {
   "cell_type": "markdown",
   "id": "39c67d5d-3b3d-4e3a-b084-69c34c38e603",
   "metadata": {},
   "source": [
    "8. How many countries are represented in this dataset? Which countries are least represented in the dataset? Why do you think these countries have so few observations?"
   ]
  },
  {
   "cell_type": "markdown",
   "id": "9531a25c",
   "metadata": {},
   "source": [
    " - Do you have to be in the UN to be reporting this? Were these countries in the UN at that time of the reporting? \n",
    " - Some of these are grouped by area and not country, were they too small to be reported by themselfs in some years and then they are grouped into the area.\n",
    " - Some of the places listed are cities, and geographical areas, and not countries\n"
   ]
  },
  {
   "cell_type": "markdown",
   "id": "648cd9ea",
   "metadata": {},
   "source": [
    "older versions of pandas were only objects, you could change to a string, but not needed"
   ]
  },
  {
   "cell_type": "code",
   "execution_count": null,
   "id": "9325b29f-8d55-4ff0-aecb-62b34e02b7f7",
   "metadata": {},
   "outputs": [],
   "source": [
    "gdp_df['Country'].unique()"
   ]
  },
  {
   "cell_type": "code",
   "execution_count": null,
   "id": "7ec28f55",
   "metadata": {},
   "outputs": [],
   "source": [
    "gdp_df['Country'].value_counts()\n",
    "# this is from the review, kinda used it below. can tack a second value counts on to the value counts... \n",
    "gdp_df['Country'].value_counts().value_counts() \n",
    "# this counts the number of times a country shows up the count value "
   ]
  },
  {
   "cell_type": "code",
   "execution_count": null,
   "id": "384f47ef-9adb-4c57-9e61-d24410f4bb77",
   "metadata": {},
   "outputs": [],
   "source": [
    "gdp_df['Country'].nunique()"
   ]
  },
  {
   "cell_type": "code",
   "execution_count": null,
   "id": "36d9d974-2832-47f9-b979-3b3a83bfe03b",
   "metadata": {},
   "outputs": [],
   "source": [
    "gdp_df['Country'].value_counts(ascending = True).head(10)"
   ]
  },
  {
   "cell_type": "markdown",
   "id": "afbb85df",
   "metadata": {},
   "source": [
    "9. Create a new dataframe by subsetting `gdp_df` to just the year 2021. Call this new dataframe `gdp_2021`."
   ]
  },
  {
   "cell_type": "code",
   "execution_count": 33,
   "id": "c14447f7-b5eb-4702-8160-65c7e806994e",
   "metadata": {},
   "outputs": [],
   "source": [
    "gdp_2021 = gdp_df.loc[gdp_df['Year'] == '2021']"
   ]
  },
  {
   "cell_type": "code",
   "execution_count": null,
   "id": "c6451655-3f96-43a4-851e-f0312014660e",
   "metadata": {},
   "outputs": [],
   "source": [
    "gdp_2021.head()\n",
    "# checking to see if it worked"
   ]
  },
  {
   "cell_type": "markdown",
   "id": "77ecf972",
   "metadata": {},
   "source": [
    "10. Use `.describe()` to find the summary statistics for GDP per capita in 2021. "
   ]
  },
  {
   "cell_type": "code",
   "execution_count": null,
   "id": "a6c11f16",
   "metadata": {},
   "outputs": [],
   "source": [
    "gdp_2021.describe()"
   ]
  },
  {
   "cell_type": "code",
   "execution_count": null,
   "id": "157c20e6",
   "metadata": {},
   "outputs": [],
   "source": [
    "# should have done, this does have a big gap between the mean and the meadian, the stanard deviation is large compared to the mean, the first quartile is small compared to the mean, in revese the max is 5x the mean. \n",
    "gdp_2021['GDP_Per_Capita'].describe()"
   ]
  },
  {
   "cell_type": "markdown",
   "id": "9e91b21d",
   "metadata": {},
   "source": [
    "11. Create a histogram of GDP Per Capita numbers for 2021 (you may wish to adjust the number of bins for your histogram). How would you describe the shape of the distribution?\n",
    "- shape is right skewed\n",
    "\n",
    "- .plot(kind = 'hist'), vs .hist(), .hist() gives title and grid lines, .plot(kind = 'hist') has a legend, and label on the y axis (not sure if that is the same time after time). .plot(kind = x) is more standardarized being just need to change the kind = to change the chart type"
   ]
  },
  {
   "cell_type": "code",
   "execution_count": null,
   "id": "ff46bd04-6209-4a23-b168-fc58edc240a3",
   "metadata": {},
   "outputs": [],
   "source": [
    "gdp_2021.hist()"
   ]
  },
  {
   "cell_type": "code",
   "execution_count": null,
   "id": "e6aaa13c",
   "metadata": {},
   "outputs": [],
   "source": [
    "gdp_2021.plot(kind = 'hist')"
   ]
  },
  {
   "cell_type": "code",
   "execution_count": null,
   "id": "25aad400-77bc-41cf-bddb-d225c311f339",
   "metadata": {},
   "outputs": [],
   "source": [
    "gdp_2021.hist(bins = 20)\n",
    "# changing bins"
   ]
  },
  {
   "cell_type": "code",
   "execution_count": null,
   "id": "19876085-3f47-4688-9f7c-465fd31b2dee",
   "metadata": {},
   "outputs": [],
   "source": [
    "gdp_2021.hist(rwidth = 0.9)\n",
    "# puts spaces inbetween the columns"
   ]
  },
  {
   "cell_type": "code",
   "execution_count": null,
   "id": "94b41a68-0577-4e97-8619-1839356cf310",
   "metadata": {},
   "outputs": [],
   "source": [
    "gdp_2021.hist(bins = 5)\n",
    "# less bins"
   ]
  },
  {
   "cell_type": "markdown",
   "id": "7e4ab28d",
   "metadata": {},
   "source": [
    "12. Find the top 5 counties and bottom 5 countries by GDP per capita in 2021."
   ]
  },
  {
   "cell_type": "code",
   "execution_count": null,
   "id": "df0345df-cecf-4d4b-948f-4c9f3ea79db7",
   "metadata": {},
   "outputs": [],
   "source": [
    "gdp_2021.sort_values('GDP_Per_Capita').head()"
   ]
  },
  {
   "cell_type": "code",
   "execution_count": null,
   "id": "37bd32da-e103-44f1-a60f-7d1e41508319",
   "metadata": {},
   "outputs": [],
   "source": [
    "gdp_2021.sort_values('GDP_Per_Capita').tail()"
   ]
  },
  {
   "cell_type": "code",
   "execution_count": null,
   "id": "ffbeafe1",
   "metadata": {},
   "outputs": [],
   "source": [
    "# using a different method \n",
    "gdp_2021.nlargest(10, 'GDP_Per_Capita')"
   ]
  },
  {
   "cell_type": "code",
   "execution_count": null,
   "id": "3178b35c",
   "metadata": {},
   "outputs": [],
   "source": [
    "gdp_2021.nsmallest(10, 'GDP_Per_Capita')"
   ]
  },
  {
   "cell_type": "markdown",
   "id": "58b237e3",
   "metadata": {},
   "source": [
    "13. Now, return to the full dataset, `gdp_df`. Pivot the data for 1990 and 2021 (using the pandas `.pivot_table()` method or another method) so that each row corresponds to a country, each column corresponds to a year, and the values in the table give the GDP_Per_Capita amount. Drop any rows that are missing values for either 1990 or 2021. Save the result to a dataframe named `gdp_pivoted`."
   ]
  },
  {
   "cell_type": "code",
   "execution_count": 46,
   "id": "f214be43",
   "metadata": {},
   "outputs": [],
   "source": [
    "gdp_pivoted = gdp_df.pivot_table(index = 'Country', columns = 'Year', values = 'GDP_Per_Capita')\n",
    "gdp_pivoted = gdp_pivoted.dropna(subset=['2021'])\n",
    "gdp_pivoted = gdp_pivoted.dropna(subset=['1990'])"
   ]
  },
  {
   "cell_type": "code",
   "execution_count": null,
   "id": "621ccc5b",
   "metadata": {},
   "outputs": [],
   "source": [
    "gdp_pivoted.head()"
   ]
  },
  {
   "cell_type": "markdown",
   "id": "41561859",
   "metadata": {},
   "source": [
    "14. Create a new column in `gdp_pivoted` named `Percent_Change`. This column should contain the percent change in GDP_Per_Capita from 1990 to 2021. Hint: Percent change is calculated as 100*(New Value - Old Value) / Old Value."
   ]
  },
  {
   "cell_type": "code",
   "execution_count": 48,
   "id": "cac5fca8",
   "metadata": {},
   "outputs": [],
   "source": [
    "gdp_pivoted['Percent_Change'] = 100 * ((gdp_pivoted['2021'] - gdp_pivoted['1990'] )/ gdp_pivoted['1990'])"
   ]
  },
  {
   "cell_type": "code",
   "execution_count": null,
   "id": "d5626f81",
   "metadata": {},
   "outputs": [],
   "source": [
    "gdp_pivoted.head()\n",
    "# checking to see if it worked"
   ]
  },
  {
   "cell_type": "markdown",
   "id": "eb51d3c2",
   "metadata": {},
   "source": [
    "15. How many countries experienced a negative percent change in GDP per capita from 1990 to 2021?"
   ]
  },
  {
   "cell_type": "markdown",
   "id": "c695ad52",
   "metadata": {},
   "source": [
    "- 19 countries"
   ]
  },
  {
   "cell_type": "code",
   "execution_count": null,
   "id": "6f72f257",
   "metadata": {},
   "outputs": [],
   "source": [
    "gdp_pivoted[gdp_pivoted['Percent_Change'] < 0]"
   ]
  },
  {
   "cell_type": "markdown",
   "id": "4119b0f3",
   "metadata": {},
   "source": [
    "16. Which country had the highest % change in GDP per capita? Create a line plot showing this country's GDP per capita for all years from 1990 to 2022. Create another showing the country with the second highest % change in GDP. How do the trends in these countries compare?  \n",
    "**Bonus:** Put both line charts on the same plot."
   ]
  },
  {
   "cell_type": "markdown",
   "id": "2f0cea10",
   "metadata": {},
   "source": [
    "- highest - Equatorial Guinea \n",
    "- 2nd highest - China\n",
    "- China had a gradual increase over the years and Equarorial Guinea had a pretty significant increase and decrease"
   ]
  },
  {
   "cell_type": "code",
   "execution_count": null,
   "id": "176f7ec6",
   "metadata": {},
   "outputs": [],
   "source": [
    "gdp_pivoted['Percent_Change'].nlargest(2)"
   ]
  },
  {
   "cell_type": "code",
   "execution_count": 52,
   "id": "3eaf700f",
   "metadata": {},
   "outputs": [],
   "source": [
    "gdp_eg = gdp_pivoted.loc['Equatorial Guinea']\n",
    "gdp_ch = gdp_pivoted.loc['China']"
   ]
  },
  {
   "cell_type": "code",
   "execution_count": null,
   "id": "516ba82a",
   "metadata": {},
   "outputs": [],
   "source": [
    "gdp_eg.plot(kind = 'line')\n",
    "gdp_ch.plot(kind = 'line')\n",
    "plt.title('GDP from 1990 - 2022 for Top Two Highest Percent Change Countries')\n",
    "plt.legend()\n",
    "plt.show()"
   ]
  },
  {
   "cell_type": "markdown",
   "id": "2b05f3da",
   "metadata": {},
   "source": [
    "17. Read in continents.csv contained in the `data` folder into a new dataframe called `continents`. We will be using this dataframe to add a new column to our dataset."
   ]
  },
  {
   "cell_type": "code",
   "execution_count": null,
   "id": "d8cd10c9",
   "metadata": {},
   "outputs": [],
   "source": [
    "continents = pd.read_csv('../data/continents.csv')\n",
    "continents.head()"
   ]
  },
  {
   "cell_type": "markdown",
   "id": "ce032167",
   "metadata": {},
   "source": [
    "18. Merge gdp_df and continents. Keep only the countries that appear in both data frames. Save the result back to gdp_df."
   ]
  },
  {
   "cell_type": "code",
   "execution_count": null,
   "id": "d39b6e9e",
   "metadata": {},
   "outputs": [],
   "source": [
    "gdp_df = pd.merge(gdp_df, continents, how = 'inner')\n",
    "gdp_df.head()"
   ]
  },
  {
   "cell_type": "markdown",
   "id": "49e6f7b5",
   "metadata": {},
   "source": [
    "19. Determine the number of countries per continent. Create a bar chart showing this."
   ]
  },
  {
   "cell_type": "code",
   "execution_count": null,
   "id": "850fa441",
   "metadata": {},
   "outputs": [],
   "source": [
    "gdp_df.groupby('Continent')['Country'].nunique()\n",
    "# testing to see how this works"
   ]
  },
  {
   "cell_type": "code",
   "execution_count": null,
   "id": "9e46ceda",
   "metadata": {},
   "outputs": [],
   "source": [
    "gdp_df.groupby('Continent')['Country'].nunique().plot(kind = 'bar')\n",
    "plt.title('Number of Countries per Continent')\n",
    "plt.show()"
   ]
  },
  {
   "cell_type": "markdown",
   "id": "06b6d9e6",
   "metadata": {},
   "source": [
    "20. Create a seaborn boxplot showing GDP per capita in 2021 split out by continent. What do you notice?"
   ]
  },
  {
   "cell_type": "markdown",
   "id": "ec8a4a1a",
   "metadata": {},
   "source": [
    "- South America has no outliers, it seems odd. While Europe has the largest outlier. \n",
    "- For Europe and North America the median seems to be in the middle of the box, but does have some skew to the right. \n",
    "- Asia, Africa, South America and Oceania are all right skewed. "
   ]
  },
  {
   "cell_type": "code",
   "execution_count": null,
   "id": "38b7d0a4",
   "metadata": {},
   "outputs": [],
   "source": [
    "gdp_df.head()"
   ]
  },
  {
   "cell_type": "code",
   "execution_count": null,
   "id": "a101e99a",
   "metadata": {},
   "outputs": [],
   "source": [
    "# need to get gdp per capita for each continent for 2021 only \n",
    "# gdp_df.loc[gdp_df['Year'] == '2021'].groupby('Continent')['GDP_Per_Capita'].sum() #this really didnt work\n",
    "gdp_df[gdp_df['Year'] == '2021']    \n"
   ]
  },
  {
   "cell_type": "code",
   "execution_count": null,
   "id": "f11b5882",
   "metadata": {},
   "outputs": [],
   "source": [
    "plt.figure(figsize = (10, 8))\n",
    "sns.boxplot(data = gdp_df[gdp_df['Year'] == '2021'], x= 'Continent', y = 'GDP_Per_Capita')\n",
    "plt.title('GDP per Capita by Continent in 2021')\n",
    "plt.show()"
   ]
  },
  {
   "cell_type": "code",
   "execution_count": null,
   "id": "f93af44b",
   "metadata": {},
   "outputs": [],
   "source": [
    "plt.figure(figsize = (10, 8))\n",
    "sns.boxplot(data = gdp_df[gdp_df['Year'] == '2021'], x = 'GDP_Per_Capita', y = 'Continent')\n",
    "plt.title('GDP per Capita by Continent in 2021')\n",
    "plt.show()\n",
    "# changing azis to see different view "
   ]
  },
  {
   "cell_type": "markdown",
   "id": "b8fdca55",
   "metadata": {},
   "source": [
    "21. Download the full csv containing Life expectancy at birth, total (years) from [https://data.worldbank.org/indicator/SP.DYN.LE00.IN?name_desc=false](https://data.worldbank.org/indicator/SP.DYN.LE00.IN?name_desc=false). Read this data into a DataFrame named `life_expectancy`. Note: When reading this dataset it, you may encounter an error. Modify your `read_csv` call to correct this **without modifying the original csv file**."
   ]
  },
  {
   "cell_type": "markdown",
   "id": "4c6ea284",
   "metadata": {},
   "source": [
    "Life Expectancy was downloaded 10/12/24 from [https://data.worldbank.org/indicator/SP.DYN.LE00.IN?name_desc=false](https://data.worldbank.org/indicator/SP.DYN.LE00.IN?name_desc=false). The first top rows were not needed, so started reading csv a few rows down on the header row. "
   ]
  },
  {
   "cell_type": "code",
   "execution_count": null,
   "id": "9a07fd34",
   "metadata": {},
   "outputs": [],
   "source": [
    "life_expectancy = pd.read_csv('../data/life_exp.csv', header = 2)"
   ]
  },
  {
   "cell_type": "markdown",
   "id": "d5ddbffc",
   "metadata": {},
   "source": [
    "22. Drop the Country Code, Indicator Name, and Indicator Code columns. Then use [`.melt()`](https://pandas.pydata.org/docs/reference/api/pandas.melt.html) to convert your data from wide to long. That is, instead of having one row per country and multiple colums per year, we want to have multiple rows per country and a single column for year. After melting, rename the columns to `Country`, `Year`, and `Life_Expectancy`."
   ]
  },
  {
   "cell_type": "code",
   "execution_count": 63,
   "id": "20c88268",
   "metadata": {},
   "outputs": [],
   "source": [
    "life_expectancy = life_expectancy.drop(columns = ['Country Code', 'Indicator Name', 'Indicator Code'])"
   ]
  },
  {
   "cell_type": "code",
   "execution_count": null,
   "id": "68940229",
   "metadata": {},
   "outputs": [],
   "source": [
    "life_expectancy.head()"
   ]
  },
  {
   "cell_type": "code",
   "execution_count": null,
   "id": "77fc174f",
   "metadata": {},
   "outputs": [],
   "source": [
    "life_expectancy = pd.melt(life_expectancy, id_vars = ['Country Name'], var_name = 'Year', value_name = 'Life_Expectancy')\n",
    "life_expectancy.head()"
   ]
  },
  {
   "cell_type": "markdown",
   "id": "facd0a64",
   "metadata": {},
   "source": [
    "23. What was the first country with a life expectancy to exceed 80?"
   ]
  },
  {
   "cell_type": "markdown",
   "id": "a2f0632e",
   "metadata": {},
   "source": [
    "Japan"
   ]
  },
  {
   "cell_type": "code",
   "execution_count": null,
   "id": "08d26310",
   "metadata": {},
   "outputs": [],
   "source": [
    "life_expectancy.loc[life_expectancy['Life_Expectancy'] >= 80]\n"
   ]
  },
  {
   "cell_type": "markdown",
   "id": "8183854d",
   "metadata": {},
   "source": [
    "24. Merge `gdp_df` and `life_expectancy`, keeping all countries and years that appear in both DataFrames. Save the result to a new DataFrame named `gdp_le`. If you get any errors in doing this, read them carefully and correct them. Look at the first five rows of your new data frame to confirm it merged correctly. Also, check the last five rows to make sure the data is clean and as expected."
   ]
  },
  {
   "cell_type": "code",
   "execution_count": 67,
   "id": "be88c262",
   "metadata": {},
   "outputs": [],
   "source": [
    "gdp_le = pd.merge(\n",
    "    left = gdp_df, \n",
    "    right = life_expectancy[['Country Name', 'Year', 'Life_Expectancy']].rename(columns =  {'Country Name': 'Country'}), \n",
    "    left_on = ['Country', 'Year'], \n",
    "    right_on = ['Country', 'Year'], \n",
    "    how = 'inner')\n"
   ]
  },
  {
   "cell_type": "code",
   "execution_count": null,
   "id": "59987617",
   "metadata": {},
   "outputs": [],
   "source": [
    "gdp_le.head()"
   ]
  },
  {
   "cell_type": "markdown",
   "id": "41500a58",
   "metadata": {},
   "source": [
    "25. Create a new DataFrame, named `gdp_le_2021` by extracting data for the year 2021 from `gdp_le`. How many countries have a life expectancy of at least 80 in 2021?\n"
   ]
  },
  {
   "cell_type": "code",
   "execution_count": 69,
   "id": "f150fa77",
   "metadata": {},
   "outputs": [],
   "source": [
    "gdp_le_2021 = gdp_le.loc[gdp_le['Year'] == '2021']"
   ]
  },
  {
   "cell_type": "code",
   "execution_count": null,
   "id": "6f30999f",
   "metadata": {},
   "outputs": [],
   "source": [
    "gdp_le_2021.head()"
   ]
  },
  {
   "cell_type": "markdown",
   "id": "f441e458",
   "metadata": {},
   "source": [
    "26. Find the countries that had the top 3 largest GDP per capita figures for 2021. Create a [seaborn FacetGrid](https://seaborn.pydata.org/generated/seaborn.FacetGrid.html) showing the change in life expectancy over time for these three countries. Each individual figure in the facet grid will represent a single country."
   ]
  },
  {
   "cell_type": "code",
   "execution_count": null,
   "id": "73813b5a",
   "metadata": {},
   "outputs": [],
   "source": [
    "gdp_le_2021.nlargest(3, 'GDP_Per_Capita')\n",
    "# to find the top three countries by gdp per capita"
   ]
  },
  {
   "cell_type": "code",
   "execution_count": 77,
   "id": "4239a91d",
   "metadata": {},
   "outputs": [],
   "source": [
    "# putting three coutnries into varaiable. had to resort them due to the most recent year being first, made the chart different\n",
    "gdp_le_21_fil = gdp_le.loc[gdp_le['Country'].isin(['Luxembourg', 'Singapore', 'Ireland'])].sort_values('Year')"
   ]
  },
  {
   "cell_type": "code",
   "execution_count": null,
   "id": "6143f539",
   "metadata": {},
   "outputs": [],
   "source": [
    "gdp_le_21_fil.head()    "
   ]
  },
  {
   "cell_type": "code",
   "execution_count": null,
   "id": "550be56d",
   "metadata": {},
   "outputs": [],
   "source": [
    "g = sns.FacetGrid(gdp_le_21_fil, col = 'Country')\n",
    "g.map(plt.scatter, 'Year', 'Life_Expectancy')\n",
    "plt.xticks(np.arange(0, 32, step = 5))\n",
    "g.tick_params(axis='x', rotation = 45)"
   ]
  },
  {
   "cell_type": "code",
   "execution_count": null,
   "id": "14b8d60f",
   "metadata": {},
   "outputs": [],
   "source": [
    "g = sns.FacetGrid(gdp_le_21_fil, col = 'Country')\n",
    "g.map(sns.lineplot, 'Year', 'Life_Expectancy')\n",
    "plt.xticks(np.arange(0, 32, step = 5))\n",
    "g.tick_params(axis='x', rotation = 45)"
   ]
  },
  {
   "cell_type": "markdown",
   "id": "4327748b",
   "metadata": {},
   "source": [
    "27. Create a scatter plot of Life Expectancy vs GDP per Capita for the year 2021. What do you notice?"
   ]
  },
  {
   "cell_type": "markdown",
   "id": "b363fbd3",
   "metadata": {},
   "source": [
    "There is a positive trend between Gdp per capita and life expectancy "
   ]
  },
  {
   "cell_type": "code",
   "execution_count": null,
   "id": "f6dc45c2",
   "metadata": {},
   "outputs": [],
   "source": [
    "gdp_le_2021.plot(\n",
    "    kind = 'scatter', \n",
    "    x = 'Life_Expectancy', \n",
    "    y = 'GDP_Per_Capita'\n",
    ")\n",
    "plt.show()"
   ]
  },
  {
   "cell_type": "markdown",
   "id": "f933488f",
   "metadata": {},
   "source": [
    "28. Find the correlation between Life Expectancy and GDP per Capita for the year 2021. What is the meaning of this number?"
   ]
  },
  {
   "cell_type": "markdown",
   "id": "6ca532c8",
   "metadata": {},
   "source": [
    "- The correlation the relationship between two things. The closer the number is to one means it has a postive linear relationship, negative one is a negative linear relationship. The closer the value is to zero indicates there is no linear relationship. \n",
    "- The correlation between life expectancy and gdp per capita is .745, which is a strong postive relationship between the two."
   ]
  },
  {
   "cell_type": "code",
   "execution_count": null,
   "id": "3f4007c0",
   "metadata": {},
   "outputs": [],
   "source": [
    "gdp_le_2021[['Life_Expectancy', 'GDP_Per_Capita']].corr()"
   ]
  },
  {
   "cell_type": "markdown",
   "id": "069b8ac9",
   "metadata": {},
   "source": [
    "29. Add a column to `gdp_le_2021` and calculate the logarithm of GDP per capita. Find the correlation between the log of GDP per capita and life expectancy. How does this compare to the calculation in the previous part? Look at a scatter plot to see if the result of this calculation makes sense."
   ]
  },
  {
   "cell_type": "markdown",
   "id": "3901ffbe",
   "metadata": {},
   "source": [
    "- The correlation between life expectancy and gdp per capita is .846, which is a strong postive relationship between the two. Using the log value it increased the relationship by .1, the log value normalizes the data some by compressing the scale so the value differences are reduced. When comparing the two scatterplots, you can see the plots in the log graph are more in the center of the graph and have a less of a curve in the plot."
   ]
  },
  {
   "cell_type": "code",
   "execution_count": 134,
   "id": "ef210764",
   "metadata": {},
   "outputs": [],
   "source": [
    "gdp_le_2021 = pd.DataFrame(gdp_le_2021)\n",
    "# gdp_le_2021.reset_index()"
   ]
  },
  {
   "cell_type": "code",
   "execution_count": 135,
   "id": "035d3f6a",
   "metadata": {},
   "outputs": [],
   "source": [
    "gdp_le_2021['log_GDP_Per_Capita'] = np.log(gdp_le_2021['GDP_Per_Capita'])"
   ]
  },
  {
   "cell_type": "code",
   "execution_count": null,
   "id": "c2c0becb",
   "metadata": {},
   "outputs": [],
   "source": [
    "gdp_le_2021.head()"
   ]
  },
  {
   "cell_type": "code",
   "execution_count": null,
   "id": "e71c1a5e",
   "metadata": {},
   "outputs": [],
   "source": [
    "gdp_le_2021[['Life_Expectancy', 'log_GDP_Per_Capita']].corr()"
   ]
  },
  {
   "cell_type": "code",
   "execution_count": null,
   "id": "ac4caa42",
   "metadata": {},
   "outputs": [],
   "source": [
    "gdp_le_2021.plot(\n",
    "    kind = 'scatter', \n",
    "    x = 'Life_Expectancy', \n",
    "    y = 'log_GDP_Per_Capita'\n",
    ")\n",
    "plt.show()"
   ]
  },
  {
   "cell_type": "markdown",
   "id": "8fd3ca93",
   "metadata": {},
   "source": [
    "### Bonus: Solo Exploration:\n",
    "1. Choose and download another data set from the UN data [http://data.un.org/Explorer.aspx](http://data.un.org/Explorer.aspx) to explore. You may want to combine your new dataset with one or both of the datasets that you already worked with. Report any interesting correlations or trends that you find. "
   ]
  },
  {
   "cell_type": "markdown",
   "id": "51791a0b",
   "metadata": {},
   "source": [
    "2.    If time allows, check out the plotly library to add additional interativity to your plots. [https://plotly.com/python/plotly-express/](https://plotly.com/python/plotly-express/).\n"
   ]
  }
 ],
 "metadata": {
  "kernelspec": {
   "display_name": "base",
   "language": "python",
   "name": "python3"
  },
  "language_info": {
   "codemirror_mode": {
    "name": "ipython",
    "version": 3
   },
   "file_extension": ".py",
   "mimetype": "text/x-python",
   "name": "python",
   "nbconvert_exporter": "python",
   "pygments_lexer": "ipython3",
   "version": "3.12.4"
  }
 },
 "nbformat": 4,
 "nbformat_minor": 5
}
